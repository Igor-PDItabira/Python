{
 "cells": [
  {
   "cell_type": "markdown",
   "id": "29e89030",
   "metadata": {},
   "source": [
    "# Módulo 4 - Repetições\n",
    "\n",
    "## Aulas 4.2 - Comando ```for``` e 4.3 Break e Continue"
   ]
  },
  {
   "cell_type": "markdown",
   "id": "a45b42df",
   "metadata": {},
   "source": [
    "### Q1.\n",
    "\n",
    "Crie um programa em Python que utilize o comando for para imprimir os números de 10 a 1, em ordem decrescente."
   ]
  },
  {
   "cell_type": "code",
   "execution_count": null,
   "id": "55a75b3d",
   "metadata": {},
   "outputs": [],
   "source": [
    "for i in range(10,0,-1)\n",
    "    print(i)\n"
   ]
  },
  {
   "cell_type": "markdown",
   "id": "94b47c36",
   "metadata": {},
   "source": [
    "### Q2.\n",
    "\n",
    "Dado um número inteiro positivo informado pelo usuário, crie um programa em Python que utilize o comando for para calcular e exibir a soma dos números de 1 até o número informado. Ou seja, $1 + 2 + 3 + ... + n$\n",
    "\n",
    "Exemplo de interação:\n",
    "```\n",
    "Digite um número: 5\n",
    "A soma dos números de 1 a 5 é 15\n",
    "```\n"
   ]
  },
  {
   "cell_type": "code",
   "execution_count": null,
   "id": "45b71596",
   "metadata": {},
   "outputs": [],
   "source": [
    "n = int(input(\"Digite um número inteiro positivo: \"))\n",
    "soma = 0\n",
    "\n",
    "for i in range(n+1)\n",
    "    soma = soma + n\n",
    "\n",
    "print(f\"A soma dos números de 1 a {n} é {n}\")"
   ]
  },
  {
   "cell_type": "markdown",
   "id": "0411d170",
   "metadata": {},
   "source": [
    "### Q3.\n",
    "\n",
    "Escreva um programa que lê 10 valores inteiros positivos do usuário e ao final imprime a média dos valores digitados com duas casas decimais.\n",
    "\n",
    "```\n",
    "Digite 10 números positivos:\n",
    "3\n",
    "2\n",
    "12\n",
    "14\n",
    "20\n",
    "42\n",
    "19\n",
    "0\n",
    "8\n",
    "1\n",
    "A média dos valores digitados é 12.10\n",
    "```"
   ]
  },
  {
   "cell_type": "code",
   "execution_count": 2,
   "id": "3f72f358",
   "metadata": {},
   "outputs": [
    {
     "name": "stdout",
     "output_type": "stream",
     "text": [
      "Digite 10 núemros positivos:\n"
     ]
    }
   ],
   "source": [
    "print(\"Digite 10 números positivos:\")\n",
    "soma = 0\n",
    "\n",
    "for i in range(11):\n",
    "    n = int(input())\n",
    "    soma = soma + n\n",
    "\n",
    "soma = soma / 10\n",
    "\n",
    "print(f\"A média dos valores digitados é {soma}\")\n"
   ]
  },
  {
   "cell_type": "markdown",
   "id": "d62e27ff",
   "metadata": {},
   "source": [
    "### Q4.\n",
    "\n",
    "Você vai criar um sistema que registra os resultados dos jogos do Atlético MG ao longo de um campeonato. Seu sistema vai receber os resultados de todos os jogos do Galo, e deve calcular a pontuação do time sabendo que vitórias valem 3 pontos, empates 1 ponto e derrotas 0 pontos.\n",
    "\n",
    "Entrada: <br>\n",
    "A primeira linha de entrada é um inteiro N com a quantidade jogos do galo. Para cada jogo você deve ler 2 inteiros, o primeiro com a quantidade de gols do galo e o segundo com a quantidade de gols do time oponente. \n",
    "\n",
    "Saída: <br>\n",
    "Apresente a soma de vitórias, empates e derrotas do galo, junto com o cálculo da pontuação total.\n",
    "\n",
    "Ex:\n",
    "```\n",
    "Entrada:\n",
    "4\n",
    "2\n",
    "0\n",
    "1\n",
    "1\n",
    "0\n",
    "3\n",
    "1\n",
    "0\n",
    "\n",
    "Saída:\n",
    "Vitórias: 2\n",
    "Empates: 1\n",
    "Derrotas: 1\n",
    "Pontuação: 7\n",
    "\n",
    "```\n",
    "\n",
    "\n"
   ]
  },
  {
   "cell_type": "code",
   "execution_count": null,
   "id": "d3fdfc2a",
   "metadata": {},
   "outputs": [],
   "source": [
    "print(\"Bem vindo ao programa de calculos de pontos do CAM:\")\n",
    "n = int(input(\"Digite quantos jogos o CAM já jogou: \"))\n",
    "soma = 0\n",
    "vitoria = 0\n",
    "empate = 0\n",
    "derrota = 0\n",
    "\n",
    "for i in range(n):\n",
    "    print(f\"Favor informar os gols realizados do {i+1}º jogo!\")\n",
    "    golr = int(input())\n",
    "    print(f\"Favor informar os gols sofridos do {i+1}º jogo!\")\n",
    "    gols = int(input())\n",
    "\n",
    "    if (golr > gols):\n",
    "        soma = soma + 3\n",
    "        vitoria = vitoria +1\n",
    "    elif (golr == gols):\n",
    "        soma = soma + 1\n",
    "        empate = empate + 1\n",
    "    else:\n",
    "        derrota = derrota + 1\n",
    "\n",
    "print(\"Com base no seus dados o CAM teve:\")\n",
    "print(f\"Vitórias: {vitoria}\")\n",
    "print(f\"Empates: {empate}\")\n",
    "print(f\"Derrotas: {derrota}\")\n",
    "print(f\"Pontuação: {soma}\")"
   ]
  },
  {
   "cell_type": "markdown",
   "id": "fc98604d",
   "metadata": {},
   "source": [
    "### Q5.\n",
    "\n",
    "Faça um programa que lê dois inteiros N e M, e imprime na tela um campo de batalha naval. O tabuleiro deve possuir N linhas e M colunas. A primeira linha é composta por um espaço em branco e o cabeçalho das colunas, ou seja, valores de 1 a M. As N linhas seguintes iniciam com o cabeçalho da linha, ou seja, seu número, seguido de M caracteres \"/\" (barra) indicando uma possível posição jogável. \n",
    "\n",
    "```\n",
    "Entrada:\n",
    "5\n",
    "4\n",
    "\n",
    "Saída:\n",
    "  1 2 3 4 \n",
    "1 / / / / \n",
    "2 / / / / \n",
    "3 / / / / \n",
    "4 / / / / \n",
    "5 / / / / \n",
    "```\n",
    "\n",
    "Para esse exercício, precisamos lembrar que o comando print implicitamente adiciona uma quebra de linha ao final da impressão. Podemos interferir no final da impressão adicionando mais uma entrada ao print. No exemplo, finalizamos cada linha com um espaço em branco:\n",
    "```python\n",
    "print(\"Texto qualquer\", end = \" \")\n",
    "```"
   ]
  },
  {
   "cell_type": "code",
   "execution_count": null,
   "id": "a60ef197",
   "metadata": {},
   "outputs": [],
   "source": [
    "print(\"Bem vindo ao jogo batalha naval\")\n",
    "n = int(input(\"Informe o número de linhas: \"))\n",
    "m = int(input(\"Agora informe o número de colunas: \"))\n",
    "\n",
    "print(\"Saida:\")\n",
    "print(\" \", end = \" \")\n",
    "for i in range(n+1):\n",
    "    if (i == 0):\n",
    "        for j in range(m): \n",
    "            print(f\"{j+1}\", end = \" \")\n",
    "    else:\n",
    "        print(\"\")\n",
    "        print(f\"{i}\", end = \" \")\n",
    "        for j in range(m):\n",
    "            print(\"/\", end = \" \")\n",
    "\n",
    "\n"
   ]
  },
  {
   "cell_type": "markdown",
   "id": "4654dc0b",
   "metadata": {},
   "source": [
    "---\n",
    "## Break e Continue"
   ]
  },
  {
   "cell_type": "markdown",
   "id": "24fe9d85",
   "metadata": {},
   "source": [
    "### Q6.\n",
    "\n",
    "Escreva um programa que lê uma quantidade indefinida de valores e informa o maior e o menor valor digitados. A leitura é encerrada quando o usuário digitar o valor 0 (zero).\n",
    "\n",
    "```\n",
    "Entrada:\n",
    "12\n",
    "-1\n",
    "29\n",
    "11\n",
    "-5\n",
    "0\n",
    "\n",
    "Saída:\n",
    "Maior: 29\n",
    "Menor: -5\n",
    "```"
   ]
  },
  {
   "cell_type": "code",
   "execution_count": null,
   "id": "ee1c466a",
   "metadata": {},
   "outputs": [],
   "source": [
    "print(\"Bem vindo ao programa leitor do maior e menor número. \")\n",
    "\n",
    "maior = float('-inf')\n",
    "menor = float('inf')\n",
    "\n",
    "while True:\n",
    "    n = int(input(\" Digite um número ou 0 para encerrar: \"))\n",
    "    if n == 0: break\n",
    "    if (n > maior):\n",
    "        maior = n\n",
    "    if (n < menor):\n",
    "        menor = n\n",
    "\n",
    "print(\"O maior e o menor número foram: \")\n",
    "print(f\"Maior: {maior}\")\n",
    "print(f\"Menor: {menor}\")\n"
   ]
  },
  {
   "cell_type": "markdown",
   "id": "30d486f7",
   "metadata": {},
   "source": [
    "### Q7.\n",
    "\n",
    "Escreva um programa que lê uma quantidade indefinida de valores e informa o **produto** dos valores positivos digitados. A leitura é encerrada quando o usuário digitar o valor 0 (zero).\n",
    "\n",
    "```\n",
    "Entrada:\n",
    "2\n",
    "-1\n",
    "1\n",
    "3\n",
    "-5\n",
    "0\n",
    "\n",
    "Saída:\n",
    "Produto: 6\n",
    "```"
   ]
  },
  {
   "cell_type": "code",
   "execution_count": null,
   "id": "2f1ac324",
   "metadata": {},
   "outputs": [],
   "source": [
    "print(\"Bem vindo ao programa contador de números positivos. \")\n",
    "\n",
    "produto = 1\n",
    "\n",
    "while True:\n",
    "    n = int(input(\" Digite um número ou 0 para encerrar: \"))\n",
    "    \n",
    "    if n == 0: break\n",
    "    if n < 0: continue\n",
    "    \n",
    "    produto = produto * n\n",
    "\n",
    "\n",
    "print(\"O o resultado do produto dos números foi: \")\n",
    "print(f\"Produto: {produto}\")\n",
    "\n"
   ]
  },
  {
   "cell_type": "markdown",
   "id": "e932f3cf",
   "metadata": {},
   "source": [
    "### Q8.\n",
    "\n",
    "Vamos fazer uma calculadora que aceita expressões aritméticas de qualquer tamanho até que o usuário digite a palavra \"Fim\". Sua calculadora executa apenas as operações \"+\", \"-\".\n",
    "\n",
    "```\n",
    "Entrada:\n",
    "5\n",
    "+\n",
    "8\n",
    "-\n",
    "3\n",
    "+\n",
    "2\n",
    "Fim\n",
    "\n",
    "Saída:\n",
    "12\n",
    "```"
   ]
  },
  {
   "cell_type": "code",
   "execution_count": null,
   "id": "e835d870",
   "metadata": {},
   "outputs": [],
   "source": [
    "print(\"Bem vindo a calculadora de + ou -. \")\n",
    "\n",
    "total = 0\n",
    "\n",
    "while True:\n",
    "    n = int(input(\" Digite um número: \"))\n",
    "    m = str((input(\" Digite um operador '+' ou '-' ou digite fim pra encerrar: \")))\n",
    "    if m == 'fim': break\n",
    "    if m == '+': \n",
    "        total = total + n \n",
    "    if m == '-':\n",
    "        total = total - n \n",
    "\n",
    "print(\"O resultado dos calculos foi: \")\n",
    "print(f\"Total: {total}\")"
   ]
  }
 ],
 "metadata": {
  "kernelspec": {
   "display_name": "Python 3",
   "language": "python",
   "name": "python3"
  },
  "language_info": {
   "codemirror_mode": {
    "name": "ipython",
    "version": 3
   },
   "file_extension": ".py",
   "mimetype": "text/x-python",
   "name": "python",
   "nbconvert_exporter": "python",
   "pygments_lexer": "ipython3",
   "version": "3.13.0"
  }
 },
 "nbformat": 4,
 "nbformat_minor": 5
}
